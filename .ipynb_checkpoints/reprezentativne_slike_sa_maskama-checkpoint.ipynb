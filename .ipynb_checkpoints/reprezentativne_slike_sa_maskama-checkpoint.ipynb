{
 "cells": [
  {
   "cell_type": "code",
   "execution_count": 2,
   "id": "a7dd44eb-03f1-45e6-a9a3-cea3942bb963",
   "metadata": {},
   "outputs": [],
   "source": [
    "import os\n",
    "from PIL import Image\n",
    "import matplotlib.pyplot as plt\n",
    "import numpy as np\n",
    "import cv2\n",
    "import pandas as pd\n",
    "from sklearn.cluster import KMeans\n",
    "from skimage import morphology, measure"
   ]
  },
  {
   "cell_type": "code",
   "execution_count": 10,
   "id": "f347127f-0faa-405c-88e6-5f639befcd2c",
   "metadata": {},
   "outputs": [
    {
     "name": "stdout",
     "output_type": "stream",
     "text": [
      "Učitano 3 slika.\n"
     ]
    }
   ],
   "source": [
    "images_folder = r'maskirane_slike'\n",
    "\n",
    "slike = [\n",
    "    'Breast_MRI_002_im_064_filt.png',\n",
    "    'Breast_MRI_009_im_079_filt.png',\n",
    "    'Breast_MRI_563_im_082_filt.png'\n",
    "]\n",
    "\n",
    "images = []\n",
    "for file in slike:\n",
    "    path = os.path.join(images_folder, file)\n",
    "    if os.path.exists(path):\n",
    "        img = Image.open(path)\n",
    "        images.append(img)\n",
    "    else:\n",
    "        print(f\"Fajl {file} ne postoji u folderu.\")\n",
    "\n",
    "print(f\"Učitano {len(images)} slika.\")"
   ]
  },
  {
   "cell_type": "code",
   "execution_count": 12,
   "id": "ec80dd30-e947-41d5-8f61-d7034d4628af",
   "metadata": {},
   "outputs": [],
   "source": [
    "from skimage import measure, morphology\n",
    "\n",
    "def maske_za_dojke(img_):\n",
    "    # Normalizacija\n",
    "    img = np.array(img)\n",
    "    img = cv2.normalize(img_, None, alpha=0, beta=255, norm_type=cv2.NORM_MINMAX)\n",
    "\n",
    "    # KMeans sa 3 klastera\n",
    "    X = img.reshape(-1, 1)\n",
    "    kmeans = KMeans(n_clusters=3, n_init=10, random_state=0)\n",
    "    kmeans.fit(X)\n",
    "\n",
    "    labels = kmeans.labels_.reshape(img.shape)\n",
    "\n",
    "    # Nađi klaster koji zauzima najveću površinu \n",
    "    cluster_sizes = [np.sum(labels == i) for i in range(3)] \n",
    "    selected_cluster = np.argmax(cluster_sizes) # najveći klaster\n",
    "\n",
    "    # Nađi intenzitete po klasterima\n",
    "    #cluster_means = [np.mean(img[labels == i]) for i in range(3)]\n",
    "\n",
    "    # Pretpostavka: dojka = srednji intenzitet (ne najtamniji, ne najsvetliji)\n",
    "    #sorted_clusters = np.argsort(cluster_means)   # [najtam., srednji, najsvetl.]\n",
    "    #selected_cluster = sorted_clusters[1]         # biramo srednji\n",
    "\n",
    "    # Kreiraj masku za taj klaster (dojke = belo)\n",
    "    mask = (labels == selected_cluster).astype(np.uint8)\n",
    "    if mask.sum() > 0.8 * mask.size: \n",
    "        mask = 1 - mask\n",
    "\n",
    "    mask_closed = morphology.closing(mask, morphology.disk(15)) \n",
    "    #mask_final = morphology.erosion(mask_closed, morphology.disk(7)) \n",
    "    mask_final = morphology.opening(mask_closed, morphology.disk(3))\n",
    "    return mask_final\n"
   ]
  },
  {
   "cell_type": "code",
   "execution_count": 14,
   "id": "e3acb47b-a8c2-4b38-80f2-8c292d1eab67",
   "metadata": {},
   "outputs": [
    {
     "ename": "error",
     "evalue": "OpenCV(4.10.0) :-1: error: (-5:Bad argument) in function 'normalize'\n> Overload resolution failed:\n>  - src is not a numpy array, neither a scalar\n>  - Expected Ptr<cv::UMat> for argument 'src'\n",
     "output_type": "error",
     "traceback": [
      "\u001b[1;31m---------------------------------------------------------------------------\u001b[0m",
      "\u001b[1;31merror\u001b[0m                                     Traceback (most recent call last)",
      "Cell \u001b[1;32mIn[14], line 2\u001b[0m\n\u001b[0;32m      1\u001b[0m \u001b[38;5;28;01mfor\u001b[39;00m img \u001b[38;5;129;01min\u001b[39;00m images:\n\u001b[1;32m----> 2\u001b[0m     mask \u001b[38;5;241m=\u001b[39m maske_za_dojke(img)\n\u001b[0;32m      3\u001b[0m     plt\u001b[38;5;241m.\u001b[39mimshow(\u001b[38;5;241m1\u001b[39m\u001b[38;5;241m-\u001b[39mmask, cmap\u001b[38;5;241m=\u001b[39m\u001b[38;5;124m'\u001b[39m\u001b[38;5;124mgray\u001b[39m\u001b[38;5;124m'\u001b[39m)  \u001b[38;5;66;03m# invertujemo masku\u001b[39;00m\n\u001b[0;32m      4\u001b[0m     plt\u001b[38;5;241m.\u001b[39mshow()\n",
      "Cell \u001b[1;32mIn[12], line 5\u001b[0m, in \u001b[0;36mmaske_za_dojke\u001b[1;34m(img_)\u001b[0m\n\u001b[0;32m      3\u001b[0m \u001b[38;5;28;01mdef\u001b[39;00m \u001b[38;5;21mmaske_za_dojke\u001b[39m(img_):\n\u001b[0;32m      4\u001b[0m     \u001b[38;5;66;03m# Normalizacija\u001b[39;00m\n\u001b[1;32m----> 5\u001b[0m     img \u001b[38;5;241m=\u001b[39m cv2\u001b[38;5;241m.\u001b[39mnormalize(img_, \u001b[38;5;28;01mNone\u001b[39;00m, alpha\u001b[38;5;241m=\u001b[39m\u001b[38;5;241m0\u001b[39m, beta\u001b[38;5;241m=\u001b[39m\u001b[38;5;241m255\u001b[39m, norm_type\u001b[38;5;241m=\u001b[39mcv2\u001b[38;5;241m.\u001b[39mNORM_MINMAX)\n\u001b[0;32m      7\u001b[0m     \u001b[38;5;66;03m# KMeans sa 3 klastera\u001b[39;00m\n\u001b[0;32m      8\u001b[0m     X \u001b[38;5;241m=\u001b[39m img\u001b[38;5;241m.\u001b[39mreshape(\u001b[38;5;241m-\u001b[39m\u001b[38;5;241m1\u001b[39m, \u001b[38;5;241m1\u001b[39m)\n",
      "\u001b[1;31merror\u001b[0m: OpenCV(4.10.0) :-1: error: (-5:Bad argument) in function 'normalize'\n> Overload resolution failed:\n>  - src is not a numpy array, neither a scalar\n>  - Expected Ptr<cv::UMat> for argument 'src'\n"
     ]
    }
   ],
   "source": [
    "for img in images:\n",
    "    mask = maske_za_dojke(img)\n",
    "    plt.imshow(1-mask, cmap='gray')  # invertujemo masku\n",
    "    plt.show()"
   ]
  },
  {
   "cell_type": "code",
   "execution_count": null,
   "id": "504f5ea1-0d48-40c8-93b5-fe695870ca86",
   "metadata": {},
   "outputs": [],
   "source": []
  }
 ],
 "metadata": {
  "kernelspec": {
   "display_name": "Python [conda env:base] *",
   "language": "python",
   "name": "conda-base-py"
  },
  "language_info": {
   "codemirror_mode": {
    "name": "ipython",
    "version": 3
   },
   "file_extension": ".py",
   "mimetype": "text/x-python",
   "name": "python",
   "nbconvert_exporter": "python",
   "pygments_lexer": "ipython3",
   "version": "3.12.3"
  }
 },
 "nbformat": 4,
 "nbformat_minor": 5
}

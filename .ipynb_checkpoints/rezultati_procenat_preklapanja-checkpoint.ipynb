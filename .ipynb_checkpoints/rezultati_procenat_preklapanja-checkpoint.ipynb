{
 "cells": [
  {
   "cell_type": "code",
   "execution_count": 31,
   "id": "f0fa2ec7-2522-4c38-9af0-5592ca3b0b03",
   "metadata": {},
   "outputs": [],
   "source": [
    "import pandas as pd"
   ]
  },
  {
   "cell_type": "code",
   "execution_count": 33,
   "id": "27f92aeb-7b26-447e-a046-b1dfc528fa45",
   "metadata": {},
   "outputs": [],
   "source": [
    "def load_excel_table(file_path):\n",
    "    try:\n",
    "        df = pd.read_excel(file_path)\n",
    "        return df\n",
    "    except Exception as e:\n",
    "        print(f\"Greška prilikom učitavanja Excel tabele: {e}\")\n",
    "        return None\n",
    "\n",
    "# Funkcija za izdvajanje broja pacijenta i slice-a iz naziva slike\n",
    "def extract_patient_and_slice_info(image_name):\n",
    "    # Pretpostavljamo da je format slike: \"Breast_MRI_XXX_im_YYY_filt.png\"\n",
    "    parts = image_name.split('_')\n",
    "    patient_id = int(parts[2])  # Treći dio je broj pacijenta (XXX)\n",
    "    slice_id = int(parts[4].split('.')[0])  # Peti dio (im_YYY) je broj slice-a\n",
    "    return patient_id, slice_id\n",
    "\n",
    "# Funkcija za analizu preklapanja po pacijentima\n",
    "def analyze_overlap_per_patient(df):\n",
    "    print(\"Analiza preklapanja po pacijentima...\")\n",
    "\n",
    "    # Dodavanje kolona za broj pacijenta i slice-a\n",
    "    df['Patient ID'], df['Slice ID'] = zip(*df['Ime slike'].apply(extract_patient_and_slice_info))\n",
    "\n",
    "    # Grupisanje po pacijentima i provjeravanje da li je na bar jednom slice-u došlo do preklapanja\n",
    "    overlap_per_patient = df.groupby('Patient ID')['Procenat piksela srca unutar supljine'].apply(lambda x: any(x > 0))\n",
    "\n",
    "    # Broj pacijenata kod kojih je došlo do preklapanja\n",
    "    num_patients_with_overlap = overlap_per_patient.sum()\n",
    "    total_patients = overlap_per_patient.shape[0]\n",
    "    overlap_percentage = (num_patients_with_overlap / total_patients) * 100\n",
    "\n",
    "    # Izračunavanje prosječnog preklapanja za pacijente sa preklapanjem (makar jedno preklapanje po slice-u)\n",
    "    average_overlap_per_patient = df[df['Patient ID'].isin(overlap_per_patient[overlap_per_patient].index)]\n",
    "    average_overlap = average_overlap_per_patient.groupby('Patient ID')['Procenat piksela srca unutar supljine'].mean().mean()\n",
    "\n",
    "    # Broj pacijenata kod kojih je preklapanje veće od 90%\n",
    "    patients_with_high_overlap = average_overlap_per_patient[average_overlap_per_patient['Procenat piksela srca unutar supljine'] > 90]\n",
    "    num_patients_with_high_overlap = patients_with_high_overlap['Patient ID'].nunique()\n",
    "    \n",
    "    # Procjena procenata pacijenata sa preklapanjem većim od 90%\n",
    "    percentage_patients_with_high_overlap = (num_patients_with_high_overlap / total_patients) * 100\n",
    "\n",
    "    print(f\"Pacijenata sa preklapanjem: {num_patients_with_overlap} od ukupno {total_patients} ({overlap_percentage:.2f}%)\")\n",
    "    print(f\"Prosečno preklapanje kod pacijenata sa preklapanjem: {average_overlap:.2f}%\")\n",
    "    print(f\"Pacijenata sa preklapanjem preko 90%: {num_patients_with_high_overlap} od ukupno {total_patients} ({percentage_patients_with_high_overlap:.2f}%)\")\n",
    "\n",
    "    return num_patients_with_overlap, total_patients, overlap_percentage, average_overlap, num_patients_with_high_overlap, percentage_patients_with_high_overlap, overlap_per_patient\n",
    "\n",
    "\n",
    "# Glavna funkcija za analizu i čuvanje rezultata\n",
    "def analyze_overlap(excel_input_path):\n",
    "    df = load_excel_table(excel_input_path)\n",
    "\n",
    "    if df is not None:\n",
    "        # Analiziraj preklapanje po pacijentima\n",
    "        num_patients_with_overlap, total_patients, overlap_percentage, average_overlap, num_patients_with_high_overlap, percentage_patients_with_high_overlap, overlap_per_patient = analyze_overlap_per_patient(df)"
   ]
  },
  {
   "cell_type": "code",
   "execution_count": 35,
   "id": "c10941d5-eb84-42a8-baf9-436b4cdc78f9",
   "metadata": {},
   "outputs": [
    {
     "name": "stdout",
     "output_type": "stream",
     "text": [
      "Analiza preklapanja po pacijentima...\n",
      "Pacijenata sa preklapanjem: 533 od ukupno 538 (99.07%)\n",
      "Prosečno preklapanje kod pacijenata sa preklapanjem: 84.72%\n",
      "Pacijenata sa preklapanjem preko 90%: 417 od ukupno 538 (77.51%)\n"
     ]
    }
   ],
   "source": [
    "# ------------prvi pristup-----------------\n",
    "excel_input_path = r'koeficijenti_korelacije/rezultati_procenat_preklapanja.xlsx'\n",
    "# Pokretanje analize\n",
    "analyze_overlap(excel_input_path)"
   ]
  },
  {
   "cell_type": "code",
   "execution_count": 37,
   "id": "09b71417-3f3c-4644-8961-e71395c98ec3",
   "metadata": {},
   "outputs": [
    {
     "name": "stdout",
     "output_type": "stream",
     "text": [
      "Analiza preklapanja po pacijentima...\n",
      "Pacijenata sa preklapanjem: 533 od ukupno 538 (99.07%)\n",
      "Prosečno preklapanje kod pacijenata sa preklapanjem: 84.67%\n",
      "Pacijenata sa preklapanjem preko 90%: 417 od ukupno 538 (77.51%)\n"
     ]
    }
   ],
   "source": [
    "#--------------------drugi pristup-------------------------\n",
    "excel_input_path = r'koeficijenti_korelacije/rezultati_procenat_preklapanja_multiscale.xlsx'\n",
    "# Pokretanje analize\n",
    "analyze_overlap(excel_input_path)"
   ]
  }
 ],
 "metadata": {
  "kernelspec": {
   "display_name": "Python [conda env:base] *",
   "language": "python",
   "name": "conda-base-py"
  },
  "language_info": {
   "codemirror_mode": {
    "name": "ipython",
    "version": 3
   },
   "file_extension": ".py",
   "mimetype": "text/x-python",
   "name": "python",
   "nbconvert_exporter": "python",
   "pygments_lexer": "ipython3",
   "version": "3.12.3"
  }
 },
 "nbformat": 4,
 "nbformat_minor": 5
}

{
 "cells": [
  {
   "cell_type": "code",
   "execution_count": 2,
   "id": "542616f0-561e-42df-a3ca-17710da2fda8",
   "metadata": {},
   "outputs": [],
   "source": [
    "import cv2\n",
    "import glob\n",
    "import os\n",
    "\n",
    "# putanja do foldera sa slikama\n",
    "input_folder = \"resized_images\"\n",
    "images = []\n",
    "image_names = []\n",
    "\n",
    "for filepath in glob.glob(os.path.join(input_folder, \"*.png\")):  \n",
    "    img = cv2.imread(filepath, cv2.IMREAD_GRAYSCALE) \n",
    "    if img is not None:\n",
    "        images.append(img)\n",
    "        image_names.append(os.path.basename(filepath)) \n"
   ]
  },
  {
   "cell_type": "code",
   "execution_count": 3,
   "id": "662ea122-2fcd-49b6-841a-07650f7a8f4c",
   "metadata": {},
   "outputs": [],
   "source": [
    "def filtriranje(images, save_folder=None, image_names=None):\n",
    "    denoised_images = []\n",
    "    \n",
    "    # Kreiraj folder ako ne postoji\n",
    "    if save_folder and not os.path.exists(save_folder):\n",
    "        os.makedirs(save_folder)\n",
    "        print(f\"Kreiran folder: {save_folder}\")\n",
    "    \n",
    "    for i, img in enumerate(images):\n",
    "        denoised_img_nlm = cv2.fastNlMeansDenoising(img, None, h=10, templateWindowSize=7, searchWindowSize=21)\n",
    "        denoised_img_nlm_bilateral = cv2.bilateralFilter(denoised_img_nlm, d=30, sigmaColor=30, sigmaSpace=30)\n",
    "        denoised_images.append(denoised_img_nlm_bilateral)\n",
    "        \n",
    "        # Sačuvaj sliku ako je folder specificiran\n",
    "        if save_folder:\n",
    "            if image_names and i < len(image_names):\n",
    "                # Uzmi originalno ime i dodaj _filt pre ekstenzije\n",
    "                orig_name = image_names[i]\n",
    "                name_without_ext = os.path.splitext(orig_name)[0]\n",
    "                ext = os.path.splitext(orig_name)[1]\n",
    "                filename = f\"{name_without_ext}_filt{ext}\"\n",
    "            else:\n",
    "                filename = f\"filtered_image_{i:04d}.png\"\n",
    "            \n",
    "            filepath = os.path.join(save_folder, filename)\n",
    "            cv2.imwrite(filepath, denoised_img_nlm_bilateral)\n",
    "            \n",
    "            if i % 50 == 0:  # Progress update\n",
    "                print(f\"Sačuvano {i+1}/{len(images)} filtriranih slika\")\n",
    "    \n",
    "    if save_folder:\n",
    "        print(f\"Sve filtrirane slike sačuvane u: {save_folder}\")\n",
    "    \n",
    "    return denoised_images"
   ]
  },
  {
   "cell_type": "code",
   "execution_count": null,
   "id": "d16e225e-dea3-45aa-a061-5ba7bf12d245",
   "metadata": {},
   "outputs": [
    {
     "name": "stdout",
     "output_type": "stream",
     "text": [
      "Kreiran folder: filtrirane_slike\n",
      "Sačuvano 1/1614 filtriranih slika\n",
      "Sačuvano 51/1614 filtriranih slika\n",
      "Sačuvano 101/1614 filtriranih slika\n",
      "Sačuvano 151/1614 filtriranih slika\n",
      "Sačuvano 201/1614 filtriranih slika\n",
      "Sačuvano 251/1614 filtriranih slika\n",
      "Sačuvano 301/1614 filtriranih slika\n",
      "Sačuvano 351/1614 filtriranih slika\n",
      "Sačuvano 401/1614 filtriranih slika\n",
      "Sačuvano 451/1614 filtriranih slika\n",
      "Sačuvano 501/1614 filtriranih slika\n",
      "Sačuvano 551/1614 filtriranih slika\n",
      "Sačuvano 601/1614 filtriranih slika\n",
      "Sačuvano 651/1614 filtriranih slika\n",
      "Sačuvano 701/1614 filtriranih slika\n",
      "Sačuvano 751/1614 filtriranih slika\n",
      "Sačuvano 801/1614 filtriranih slika\n",
      "Sačuvano 851/1614 filtriranih slika\n",
      "Sačuvano 901/1614 filtriranih slika\n",
      "Sačuvano 951/1614 filtriranih slika\n",
      "Sačuvano 1001/1614 filtriranih slika\n",
      "Sačuvano 1051/1614 filtriranih slika\n",
      "Sačuvano 1101/1614 filtriranih slika\n",
      "Sačuvano 1151/1614 filtriranih slika\n",
      "Sačuvano 1201/1614 filtriranih slika\n",
      "Sačuvano 1251/1614 filtriranih slika\n",
      "Sačuvano 1301/1614 filtriranih slika\n"
     ]
    }
   ],
   "source": [
    "output_folder = \"filtrirane_slike\"\n",
    "filtrirane = filtriranje(images, save_folder=output_folder, image_names=image_names)"
   ]
  },
  {
   "cell_type": "code",
   "execution_count": 6,
   "id": "dcb5d50d-ccd3-4fcd-9f0b-dc1e1bb713f0",
   "metadata": {},
   "outputs": [],
   "source": [
    "#------------------cuvanje samo 30--------------------\n",
    "input_folder = r'slike_za_template'\n",
    "images = []\n",
    "image_names = []\n",
    "\n",
    "for filepath in glob.glob(os.path.join(input_folder, \"*.png\")):  \n",
    "    img = cv2.imread(filepath, cv2.IMREAD_GRAYSCALE) \n",
    "    if img is not None:\n",
    "        images.append(img)\n",
    "        image_names.append(os.path.basename(filepath)) "
   ]
  },
  {
   "cell_type": "code",
   "execution_count": 8,
   "id": "fe2cc905-5b0f-4b40-a596-3decfcb1b09e",
   "metadata": {},
   "outputs": [
    {
     "name": "stdout",
     "output_type": "stream",
     "text": [
      "Kreiran folder: filtrirane_slike_30_izabranih\n",
      "Sačuvano 1/30 filtriranih slika\n",
      "Sve filtrirane slike sačuvane u: filtrirane_slike_30_izabranih\n"
     ]
    }
   ],
   "source": [
    "output_folder = \"filtrirane_slike_30_izabranih\"\n",
    "filtrirane = filtriranje(images, save_folder=output_folder, image_names=image_names)"
   ]
  }
 ],
 "metadata": {
  "kernelspec": {
   "display_name": "Python [conda env:base] *",
   "language": "python",
   "name": "conda-base-py"
  },
  "language_info": {
   "codemirror_mode": {
    "name": "ipython",
    "version": 3
   },
   "file_extension": ".py",
   "mimetype": "text/x-python",
   "name": "python",
   "nbconvert_exporter": "python",
   "pygments_lexer": "ipython3",
   "version": "3.12.3"
  }
 },
 "nbformat": 4,
 "nbformat_minor": 5
}
